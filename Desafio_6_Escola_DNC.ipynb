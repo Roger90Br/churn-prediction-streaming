{
  "nbformat": 4,
  "nbformat_minor": 0,
  "metadata": {
    "colab": {
      "provenance": [],
      "mount_file_id": "1WKqz7Y-ikMI8qBaXZqLQ8oVRElJU01dI",
      "authorship_tag": "ABX9TyNIHPAGkMl+yIasE21wSJoN",
      "include_colab_link": true
    },
    "kernelspec": {
      "name": "python3",
      "display_name": "Python 3"
    },
    "language_info": {
      "name": "python"
    }
  },
  "cells": [
    {
      "cell_type": "markdown",
      "metadata": {
        "id": "view-in-github",
        "colab_type": "text"
      },
      "source": [
        "<a href=\"https://colab.research.google.com/github/Roger90Br/churn-prediction-streaming/blob/main/Desafio_6_Escola_DNC.ipynb\" target=\"_parent\"><img src=\"https://colab.research.google.com/assets/colab-badge.svg\" alt=\"Open In Colab\"/></a>"
      ]
    },
    {
      "cell_type": "markdown",
      "source": [
        "Tratamento de Dados:\n",
        "\n",
        "O tratamento de dados refere-se ao processo de preparação e limpeza de conjuntos de dados brutos para análise. Isso inclui remover dados ausentes, tratar valores nulos, converter tipos de dados, normalizar ou padronizar variáveis, e transformar dados categóricos em formatos que possam ser utilizados por algoritmos de aprendizado de máquina."
      ],
      "metadata": {
        "id": "KeaGR-5iCd2Y"
      }
    },
    {
      "cell_type": "code",
      "source": [
        "import pandas as pd\n",
        "from google.colab import drive\n",
        "\n",
        "# Montar o Google Drive\n",
        "drive.mount('/content/drive')\n",
        "\n",
        "# Carregar o arquivo CSV em um DataFrame\n",
        "file_path = '/streaming_data.csv'\n",
        "df = pd.read_csv(file_path)\n",
        "\n",
        "# Substituir valores \"NaN\" por 0 nas colunas especificadas\n",
        "cols_to_fill = ['Time_on_platform', 'Num_streaming_services', 'Churned', 'Avg_rating', 'Devices_connected']\n",
        "df[cols_to_fill] = df[cols_to_fill].fillna(0)\n",
        "\n",
        "# Dropar linhas que contêm valores nulos nas colunas especificadas\n",
        "df = df.dropna(subset=['Gender', 'Subscription_type', 'Age'])\n",
        "\n",
        "# Transformar valores churned 0 e 1 por No e Yes usando .loc\n",
        "df.loc[:, 'Churned'] = df['Churned'].replace({0: 'No', 1: 'Yes'})\n",
        "\n",
        "# Transformar valores floats em valores inteiros nas colunas especificadas usando .loc\n",
        "cols_to_int = ['Time_on_platform', 'Num_streaming_services', 'Avg_rating', 'Devices_connected']\n",
        "df.loc[:, cols_to_int] = df[cols_to_int].astype(int)\n",
        "\n",
        "# Salvar o DataFrame tratado no Google Drive\n",
        "df.to_csv('/content/drive/My Drive/streaming_data_tratado.csv', index=False)\n"
      ],
      "metadata": {
        "colab": {
          "base_uri": "https://localhost:8080/"
        },
        "id": "TmHftNOK15uk",
        "outputId": "7dafa5a2-8d00-4422-b513-2c466b49ecd9"
      },
      "execution_count": null,
      "outputs": [
        {
          "output_type": "stream",
          "name": "stdout",
          "text": [
            "Drive already mounted at /content/drive; to attempt to forcibly remount, call drive.mount(\"/content/drive\", force_remount=True).\n"
          ]
        }
      ]
    },
    {
      "cell_type": "code",
      "source": [
        "# Carregar o arquivo tratado do Google Drive\n",
        "df_tratado = pd.read_csv('/content/drive/My Drive/streaming_data_tratado.csv')\n",
        "\n",
        "# Visualizar informações sobre o DataFrame final\n",
        "print(\"\\nInformações sobre o DataFrame final:\")\n",
        "df_tratado.info()\n",
        "\n",
        "# Exibir as 10 primeiras linhas do DataFrame final\n",
        "print(\"\\nPrimeiras 10 linhas do DataFrame final:\")\n",
        "print(df_tratado.head(10))\n"
      ],
      "metadata": {
        "colab": {
          "base_uri": "https://localhost:8080/"
        },
        "id": "5JKuWDTY2U_L",
        "outputId": "dfa9d5ff-567f-4451-dccd-6a5333b8d717"
      },
      "execution_count": null,
      "outputs": [
        {
          "output_type": "stream",
          "name": "stdout",
          "text": [
            "\n",
            "Informações sobre o DataFrame final:\n",
            "<class 'pandas.core.frame.DataFrame'>\n",
            "RangeIndex: 36515 entries, 0 to 36514\n",
            "Data columns (total 10 columns):\n",
            " #   Column                  Non-Null Count  Dtype  \n",
            "---  ------                  --------------  -----  \n",
            " 0   Age                     36515 non-null  float64\n",
            " 1   Gender                  36515 non-null  object \n",
            " 2   Time_on_platform        36515 non-null  float64\n",
            " 3   Devices_connected       36515 non-null  float64\n",
            " 4   Subscription_type       36515 non-null  object \n",
            " 5   Num_streaming_services  36515 non-null  float64\n",
            " 6   Num_active_profiles     36515 non-null  int64  \n",
            " 7   Avg_rating              36515 non-null  float64\n",
            " 8   Churned                 36515 non-null  object \n",
            " 9   User_id                 36515 non-null  object \n",
            "dtypes: float64(5), int64(1), object(4)\n",
            "memory usage: 2.8+ MB\n",
            "\n",
            "Primeiras 10 linhas do DataFrame final:\n",
            "    Age  Gender  Time_on_platform  Devices_connected Subscription_type  \\\n",
            "0  49.0    Male            4700.0                3.0             Basic   \n",
            "1  69.0  Female            6107.0                2.0          Standard   \n",
            "2  44.0    Male            6374.0                3.0           Premium   \n",
            "3  26.0    Male               0.0                5.0             Basic   \n",
            "4  54.0    Male            3024.0                2.0             Basic   \n",
            "5  21.0  Female             112.0                2.0             Basic   \n",
            "6  61.0    Male            5389.0                3.0          Standard   \n",
            "7  44.0    Male            4198.0                1.0             Basic   \n",
            "8  30.0    Male            2306.0                3.0           Premium   \n",
            "9  20.0    Male            2542.0                5.0             Basic   \n",
            "\n",
            "   Num_streaming_services  Num_active_profiles  Avg_rating Churned  \\\n",
            "0                     0.0                    3         0.0      No   \n",
            "1                     0.0                    1         2.0      No   \n",
            "2                     1.0                    1         1.0     Yes   \n",
            "3                     0.0                    2         0.0      No   \n",
            "4                     0.0                    1         0.0      No   \n",
            "5                     0.0                    3         2.0     Yes   \n",
            "6                     0.0                    4         3.0      No   \n",
            "7                     0.0                    3         2.0      No   \n",
            "8                     0.0                    5         3.0      No   \n",
            "9                     0.0                    1         0.0     Yes   \n",
            "\n",
            "                                User_id  \n",
            "0  a271aa56-bcfc-4f0a-91f7-b773de6b86a4  \n",
            "1  fe14b048-770b-4619-8ec6-485b0969ae31  \n",
            "2  0283dffd-6684-4a05-9c6f-c02098a6849d  \n",
            "3  c316f2f5-3403-4a0a-82c2-c98e4b3379d2  \n",
            "4  a1df3a13-9255-4d00-8a9d-20565fefaab9  \n",
            "5  c6f0b9be-dd53-42a3-8efd-1ad7dcdda167  \n",
            "6  8f62edd7-4fe0-45c2-98b9-2951e4bef897  \n",
            "7  5417ca3a-b300-4429-b227-3bc75fbb2c1d  \n",
            "8  cc4de3a2-a732-42f1-b55d-6e33886a3b7d  \n",
            "9  b4da071a-c8b4-44dd-84fb-7de32abf766f  \n"
          ]
        }
      ]
    },
    {
      "cell_type": "markdown",
      "source": [
        "Regressão Linear:\n",
        "\n",
        "A regressão linear é uma técnica estatística usada para entender a relação entre variáveis independentes (preditoras) e uma variável dependente (alvo). Ela modela essa relação linearmente, o que permite prever valores futuros da variável dependente com base nas variáveis independentes."
      ],
      "metadata": {
        "id": "RBrERObkCUX0"
      }
    },
    {
      "cell_type": "code",
      "source": [
        "import pandas as pd\n",
        "from google.colab import drive\n",
        "from sklearn.preprocessing import LabelEncoder, MinMaxScaler\n",
        "from sklearn.model_selection import train_test_split\n",
        "from sklearn.linear_model import LogisticRegression\n",
        "from sklearn.metrics import confusion_matrix, ConfusionMatrixDisplay, classification_report\n",
        "from imblearn.over_sampling import SMOTE\n",
        "import matplotlib.pyplot as plt\n",
        "\n",
        "# Montar o Google Drive\n",
        "drive.mount('/content/drive')\n",
        "\n",
        "# Carregar o arquivo tratado do Google Drive\n",
        "file_path = '/content/drive/My Drive/streaming_data_tratado.csv'\n",
        "df = pd.read_csv(file_path)\n",
        "\n",
        "# Definir X e y\n",
        "X = df.drop('Churned', axis=1)\n",
        "y = df['Churned']\n",
        "\n",
        "# Aplicar LabelEncoder em variáveis categóricas\n",
        "le = LabelEncoder()\n",
        "for col in X.select_dtypes(include='object').columns:\n",
        "    X[col] = le.fit_transform(X[col])\n",
        "\n",
        "# Escalonar os dados com MinMaxScaler\n",
        "scaler = MinMaxScaler()\n",
        "X_scaled = scaler.fit_transform(X)\n",
        "\n",
        "# Dividir os dados em conjuntos de treino e teste\n",
        "X_train, X_test, y_train, y_test = train_test_split(X_scaled, y, test_size=0.2, random_state=42)\n",
        "\n",
        "# Balanceamento das classes usando SMOTE\n",
        "smote = SMOTE(random_state=42)\n",
        "X_train_balanced, y_train_balanced = smote.fit_resample(X_train, y_train)\n",
        "\n",
        "# Criar e treinar o modelo de Regressão Logística\n",
        "model = LogisticRegression()\n",
        "model.fit(X_train_balanced, y_train_balanced)\n",
        "\n",
        "# Realizar previsões no conjunto de teste\n",
        "y_pred = model.predict(X_test)\n",
        "\n",
        "# Plotar matriz de confusão\n",
        "cm = confusion_matrix(y_test, y_pred)\n",
        "disp = ConfusionMatrixDisplay(confusion_matrix=cm, display_labels=model.classes_)\n",
        "plt.figure(figsize=(8, 6))\n",
        "disp.plot(cmap=plt.cm.Blues)\n",
        "plt.title('Matriz de Confusão')\n",
        "plt.show()\n",
        "\n",
        "# Imprimir métricas de classificação\n",
        "print(\"Relatório de classificação:\")\n",
        "print(classification_report(y_test, y_pred))"
      ],
      "metadata": {
        "colab": {
          "base_uri": "https://localhost:8080/",
          "height": 700
        },
        "id": "pUdjqQXb85Uj",
        "outputId": "0d2081cb-08db-467e-ac5f-a9c09c74f890"
      },
      "execution_count": null,
      "outputs": [
        {
          "output_type": "stream",
          "name": "stdout",
          "text": [
            "Drive already mounted at /content/drive; to attempt to forcibly remount, call drive.mount(\"/content/drive\", force_remount=True).\n"
          ]
        },
        {
          "output_type": "display_data",
          "data": {
            "text/plain": [
              "<Figure size 800x600 with 0 Axes>"
            ]
          },
          "metadata": {}
        },
        {
          "output_type": "display_data",
          "data": {
            "text/plain": [
              "<Figure size 640x480 with 2 Axes>"
            ],
            "image/png": "[encoded data removed]"
          },
          "metadata": {}
        },
        {
          "output_type": "stream",
          "name": "stdout",
          "text": [
            "Relatório de classificação:\n",
            "              precision    recall  f1-score   support\n",
            "\n",
            "          No       0.81      0.50      0.62      5900\n",
            "         Yes       0.19      0.51      0.28      1403\n",
            "\n",
            "    accuracy                           0.50      7303\n",
            "   macro avg       0.50      0.50      0.45      7303\n",
            "weighted avg       0.69      0.50      0.55      7303\n",
            "\n"
          ]
        }
      ]
    },
    {
      "cell_type": "markdown",
      "source": [
        "Tuning (Ajuste de Hiperparâmetros):\n",
        "\n",
        "O tuning refere-se ao processo de ajustar os hiperparâmetros de um modelo de aprendizado de máquina para otimizar seu desempenho. Isso é feito procurando a melhor combinação de valores para os parâmetros que não são aprendidos diretamente durante o treinamento do modelo."
      ],
      "metadata": {
        "id": "mwvreTYADXDi"
      }
    },
    {
      "cell_type": "code",
      "source": [
        "import pandas as pd\n",
        "from google.colab import drive\n",
        "from sklearn.preprocessing import LabelEncoder, MinMaxScaler\n",
        "from sklearn.model_selection import train_test_split, GridSearchCV\n",
        "from sklearn.linear_model import LogisticRegression\n",
        "from sklearn.metrics import confusion_matrix, ConfusionMatrixDisplay, classification_report\n",
        "from imblearn.over_sampling import SMOTE\n",
        "import matplotlib.pyplot as plt\n",
        "\n",
        "# Montar o Google Drive\n",
        "drive.mount('/content/drive')\n",
        "\n",
        "# Carregar o arquivo tratado do Google Drive\n",
        "file_path = '/content/drive/My Drive/streaming_data_tratado.csv'\n",
        "df = pd.read_csv(file_path)\n",
        "\n",
        "# Definir X e y\n",
        "X = df.drop('Churned', axis=1)\n",
        "y = df['Churned']\n",
        "\n",
        "# Aplicar LabelEncoder em variáveis categóricas\n",
        "le = LabelEncoder()\n",
        "for col in X.select_dtypes(include='object').columns:\n",
        "    X[col] = le.fit_transform(X[col])\n",
        "\n",
        "# Escalonar os dados com MinMaxScaler\n",
        "scaler = MinMaxScaler()\n",
        "X_scaled = scaler.fit_transform(X)\n",
        "\n",
        "# Dividir os dados em conjuntos de treino e teste\n",
        "X_train, X_test, y_train, y_test = train_test_split(X_scaled, y, test_size=0.2, random_state=42)\n",
        "\n",
        "# Balanceamento das classes usando SMOTE\n",
        "smote = SMOTE(random_state=42)\n",
        "X_train_balanced, y_train_balanced = smote.fit_resample(X_train, y_train)\n",
        "\n",
        "# Definir os hiperparâmetros para tunning\n",
        "param_grid = {\n",
        "    'C': [0.1, 1, 10, 100],\n",
        "    'solver': ['newton-cg', 'lbfgs', 'liblinear']\n",
        "}\n",
        "\n",
        "# Criar e realizar o tunning do modelo de Regressão Logística com GridSearchCV\n",
        "model = LogisticRegression()\n",
        "grid_search = GridSearchCV(model, param_grid, cv=5, scoring='accuracy')\n",
        "grid_search.fit(X_train_balanced, y_train_balanced)\n",
        "\n",
        "# Melhor modelo após tunning\n",
        "best_model = grid_search.best_estimator_\n",
        "\n",
        "# Realizar previsões no conjunto de teste\n",
        "y_pred = best_model.predict(X_test)\n",
        "\n",
        "# Plotar matriz de confusão\n",
        "cm = confusion_matrix(y_test, y_pred)\n",
        "disp = ConfusionMatrixDisplay(confusion_matrix=cm, display_labels=best_model.classes_)\n",
        "plt.figure(figsize=(8, 6))\n",
        "disp.plot(cmap=plt.cm.Blues)\n",
        "plt.title('Matriz de Confusão')\n",
        "plt.show()\n",
        "\n",
        "# Imprimir métricas de classificação\n",
        "print(\"Melhores parâmetros encontrados: \", grid_search.best_params_)\n",
        "print(classification_report(y_test, y_pred))\n"
      ],
      "metadata": {
        "colab": {
          "base_uri": "https://localhost:8080/",
          "height": 700
        },
        "id": "_XGvR-Rm8UwK",
        "outputId": "55094f49-a804-48d8-b350-7a1e112c9a38"
      },
      "execution_count": null,
      "outputs": [
        {
          "output_type": "stream",
          "name": "stdout",
          "text": [
            "Drive already mounted at /content/drive; to attempt to forcibly remount, call drive.mount(\"/content/drive\", force_remount=True).\n"
          ]
        },
        {
          "output_type": "display_data",
          "data": {
            "text/plain": [
              "<Figure size 800x600 with 0 Axes>"
            ]
          },
          "metadata": {}
        },
        {
          "output_type": "display_data",
          "data": {
            "text/plain": [
              "<Figure size 640x480 with 2 Axes>"
            ],
            "image/png": "[encoded data removed]"
          },
          "metadata": {}
        },
        {
          "output_type": "stream",
          "name": "stdout",
          "text": [
            "Melhores parâmetros encontrados:  {'C': 0.1, 'solver': 'liblinear'}\n",
            "              precision    recall  f1-score   support\n",
            "\n",
            "          No       0.81      0.50      0.62      5900\n",
            "         Yes       0.19      0.50      0.28      1403\n",
            "\n",
            "    accuracy                           0.50      7303\n",
            "   macro avg       0.50      0.50      0.45      7303\n",
            "weighted avg       0.69      0.50      0.55      7303\n",
            "\n"
          ]
        }
      ]
    },
    {
      "cell_type": "markdown",
      "source": [
        "Random Forest:\n",
        "\n",
        "Random Forest é um algoritmo de aprendizado de máquina que opera construindo múltiplas árvores de decisão durante o treinamento e combinando suas previsões para melhorar a precisão e a robustez do modelo. Cada árvore é treinada em uma amostra aleatória do conjunto de dados e usa um subconjunto aleatório das variáveis, resultando em um modelo forte contra overfitting e capaz de lidar com dados não lineares e com múltiplas características."
      ],
      "metadata": {
        "id": "WY8yOtAnDaSK"
      }
    },
    {
      "cell_type": "code",
      "source": [
        "import pandas as pd\n",
        "from google.colab import drive\n",
        "from sklearn.preprocessing import LabelEncoder, MinMaxScaler\n",
        "from sklearn.model_selection import train_test_split, GridSearchCV\n",
        "from sklearn.ensemble import RandomForestClassifier\n",
        "from sklearn.metrics import confusion_matrix, ConfusionMatrixDisplay, classification_report\n",
        "from imblearn.over_sampling import SMOTE\n",
        "import matplotlib.pyplot as plt\n",
        "\n",
        "# Montar o Google Drive\n",
        "drive.mount('/content/drive')\n",
        "\n",
        "# Carregar o arquivo tratado do Google Drive\n",
        "file_path = '/content/drive/My Drive/streaming_data_tratado.csv'\n",
        "df = pd.read_csv(file_path)\n",
        "\n",
        "# Definir X e y\n",
        "X = df.drop('Churned', axis=1)\n",
        "y = df['Churned']\n",
        "\n",
        "# Aplicar LabelEncoder em variáveis categóricas\n",
        "le = LabelEncoder()\n",
        "for col in X.select_dtypes(include='object').columns:\n",
        "    X[col] = le.fit_transform(X[col])\n",
        "\n",
        "# Escalonar os dados com MinMaxScaler\n",
        "scaler = MinMaxScaler()\n",
        "X_scaled = scaler.fit_transform(X)\n",
        "\n",
        "# Dividir os dados em conjuntos de treino e teste\n",
        "X_train, X_test, y_train, y_test = train_test_split(X_scaled, y, test_size=0.2, random_state=42)\n",
        "\n",
        "# Balanceamento das classes usando SMOTE\n",
        "smote = SMOTE(random_state=42)\n",
        "X_train_balanced, y_train_balanced = smote.fit_resample(X_train, y_train)\n",
        "\n",
        "# Definir o modelo de Random Forest\n",
        "rf = RandomForestClassifier(random_state=42)\n",
        "\n",
        "# Definir os parâmetros para o Grid Search\n",
        "param_grid = {\n",
        "    'n_estimators': [50, 100],\n",
        "    'max_depth': [None, 10],\n",
        "    'min_samples_split': [2, 5],\n",
        "    'min_samples_leaf': [1, 2]\n",
        "}\n",
        "\n",
        "# Realizar o Grid Search com validação cruzada\n",
        "grid_search = GridSearchCV(estimator=rf, param_grid=param_grid, cv=3, n_jobs=-1, verbose=2)\n",
        "grid_search.fit(X_train_balanced, y_train_balanced)\n",
        "\n",
        "# Melhor estimador encontrado pelo Grid Search\n",
        "best_rf = grid_search.best_estimator_\n",
        "\n",
        "# Realizar previsões no conjunto de teste\n",
        "y_pred = best_rf.predict(X_test)\n",
        "\n",
        "# Plotar matriz de confusão\n",
        "cm = confusion_matrix(y_test, y_pred)\n",
        "disp = ConfusionMatrixDisplay(confusion_matrix=cm, display_labels=best_rf.classes_)\n",
        "plt.figure(figsize=(8, 6))\n",
        "disp.plot(cmap=plt.cm.Blues)\n",
        "plt.title('Matriz de Confusão')\n",
        "plt.show()\n",
        "\n",
        "# Imprimir métricas de classificação\n",
        "print(\"Relatório de classificação:\")\n",
        "print(classification_report(y_test, y_pred))\n",
        "\n",
        "# Exibir os melhores parâmetros\n",
        "print(\"Melhores parâmetros encontrados:\", grid_search.best_params_)\n"
      ],
      "metadata": {
        "colab": {
          "base_uri": "https://localhost:8080/",
          "height": 735
        },
        "id": "_omcGZjc__M5",
        "outputId": "5b032b64-23ac-4cf1-efd8-bddd74e38906"
      },
      "execution_count": null,
      "outputs": [
        {
          "output_type": "stream",
          "name": "stdout",
          "text": [
            "Drive already mounted at /content/drive; to attempt to forcibly remount, call drive.mount(\"/content/drive\", force_remount=True).\n",
            "Fitting 3 folds for each of 16 candidates, totalling 48 fits\n"
          ]
        },
        {
          "output_type": "display_data",
          "data": {
            "text/plain": [
              "<Figure size 800x600 with 0 Axes>"
            ]
          },
          "metadata": {}
        },
        {
          "output_type": "display_data",
          "data": {
            "text/plain": [
              "<Figure size 640x480 with 2 Axes>"
            ],
            "image/png": "[encoded data removed]"
          },
          "metadata": {}
        },
        {
          "output_type": "stream",
          "name": "stdout",
          "text": [
            "Relatório de classificação:\n",
            "              precision    recall  f1-score   support\n",
            "\n",
            "          No       0.85      0.95      0.90      5900\n",
            "         Yes       0.61      0.30      0.40      1403\n",
            "\n",
            "    accuracy                           0.83      7303\n",
            "   macro avg       0.73      0.63      0.65      7303\n",
            "weighted avg       0.80      0.83      0.80      7303\n",
            "\n",
            "Melhores parâmetros encontrados: {'max_depth': None, 'min_samples_leaf': 1, 'min_samples_split': 2, 'n_estimators': 100}\n"
          ]
        }
      ]
    }
  ]
}